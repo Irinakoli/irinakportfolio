{
 "cells": [
  {
   "cell_type": "code",
   "execution_count": 1,
   "id": "3ea381d0",
   "metadata": {},
   "outputs": [
    {
     "name": "stdout",
     "output_type": "stream",
     "text": [
      "Collecting package metadata (current_repodata.json): ...working... done\n",
      "Solving environment: ...working... failed with initial frozen solve. Retrying with flexible solve.\n",
      "Collecting package metadata (repodata.json): ...working... done\n",
      "Solving environment: ...working... failed with initial frozen solve. Retrying with flexible solve.\n"
     ]
    },
    {
     "name": "stderr",
     "output_type": "stream",
     "text": [
      "\n",
      "PackagesNotFoundError: The following packages are not available from current channels:\n",
      "\n",
      "  - torchvision-c\n",
      "\n",
      "Current channels:\n",
      "\n",
      "  - https://repo.anaconda.com/pkgs/main/win-64\n",
      "  - https://repo.anaconda.com/pkgs/main/noarch\n",
      "  - https://repo.anaconda.com/pkgs/r/win-64\n",
      "  - https://repo.anaconda.com/pkgs/r/noarch\n",
      "  - https://repo.anaconda.com/pkgs/msys2/win-64\n",
      "  - https://repo.anaconda.com/pkgs/msys2/noarch\n",
      "\n",
      "To search for alternate channels that may provide the conda package you're\n",
      "looking for, navigate to\n",
      "\n",
      "    https://anaconda.org\n",
      "\n",
      "and use the search bar at the top of the page.\n",
      "\n",
      "\n"
     ]
    }
   ],
   "source": [
    "!conda install -y pytorch torchvision-c pytorch"
   ]
  },
  {
   "cell_type": "code",
   "execution_count": 2,
   "id": "ce9a1ffb",
   "metadata": {},
   "outputs": [],
   "source": [
    "#!conda -y install pytorch torchvision-c pytorch"
   ]
  },
  {
   "cell_type": "code",
   "execution_count": 3,
   "id": "c3eaba82",
   "metadata": {},
   "outputs": [],
   "source": [
    "import torch\n",
    "import numpy as np\n",
    "import matplotlib.pyplot as plt"
   ]
  },
  {
   "cell_type": "markdown",
   "id": "45f22ba5",
   "metadata": {},
   "source": [
    "**tensor attributes: **\n",
    "\n",
    "1) shape\n",
    "2) grad\n",
    "\n",
    "loss function - avg sum of all sqr(differences between prediction and actual output) -> mean square error\n",
    "\n",
    "lowest point of the curve - Gradient Descent in order to find the loss function\n",
    "to set weight and bias + to calculate grad + pytorch to calculate derivitives for it (automatic differentiation)"
   ]
  },
  {
   "cell_type": "code",
   "execution_count": 4,
   "id": "ca2c6213",
   "metadata": {},
   "outputs": [],
   "source": [
    "from torchvision import datasets, transforms\n",
    "\n",
    "#converting images to tensors and normalizing pixels -1 to 1\n",
    "transform = transforms.Compose([\n",
    "    transforms.ToTensor(),\n",
    "    transforms.Normalize((0.5,), (0.5,))\n",
    "])\n",
    "\n",
    "train_data = datasets.MNIST(root = \"./data\",\n",
    "                           train = True,\n",
    "                           download = True,\n",
    "                           transform = transform)\n",
    "\n",
    "test_data = datasets.MNIST(root = \"./data\",\n",
    "                          train = False,\n",
    "                          download = True,\n",
    "                          transform = transform)"
   ]
  },
  {
   "cell_type": "code",
   "execution_count": 5,
   "id": "5e292c88",
   "metadata": {},
   "outputs": [
    {
     "data": {
      "text/plain": [
       "'2.0.0+cpu'"
      ]
     },
     "execution_count": 5,
     "metadata": {},
     "output_type": "execute_result"
    }
   ],
   "source": [
    "torch.__version__"
   ]
  },
  {
   "cell_type": "code",
   "execution_count": 6,
   "id": "505108e9",
   "metadata": {},
   "outputs": [],
   "source": [
    "# creating data loaders\n",
    "\n",
    "#how to divide data? take only 64 images at the time to GPU\n",
    "batch_size = 64\n",
    "\n",
    "train_loader = torch.utils.data.DataLoader(train_data,\n",
    "                                          batch_size = batch_size,\n",
    "                                          shuffle = True)\n",
    "\n",
    "test_loader = torch.utils.data.DataLoader(test_data,\n",
    "                                          batch_size = batch_size,\n",
    "                                          shuffle = False)"
   ]
  },
  {
   "cell_type": "code",
   "execution_count": 7,
   "id": "5c3a6630",
   "metadata": {},
   "outputs": [
    {
     "data": {
      "text/plain": [
       "torchvision.datasets.mnist.MNIST"
      ]
     },
     "execution_count": 7,
     "metadata": {},
     "output_type": "execute_result"
    }
   ],
   "source": [
    "type(test_data)"
   ]
  },
  {
   "cell_type": "code",
   "execution_count": 8,
   "id": "c77c8bc5",
   "metadata": {},
   "outputs": [
    {
     "data": {
      "text/plain": [
       "Dataset MNIST\n",
       "    Number of datapoints: 10000\n",
       "    Root location: ./data\n",
       "    Split: Test\n",
       "    StandardTransform\n",
       "Transform: Compose(\n",
       "               ToTensor()\n",
       "               Normalize(mean=(0.5,), std=(0.5,))\n",
       "           )"
      ]
     },
     "execution_count": 8,
     "metadata": {},
     "output_type": "execute_result"
    }
   ],
   "source": [
    "test_data"
   ]
  },
  {
   "cell_type": "code",
   "execution_count": 9,
   "id": "07b668c7",
   "metadata": {},
   "outputs": [
    {
     "name": "stdout",
     "output_type": "stream",
     "text": [
      "torch.Size([64, 1, 28, 28])\n"
     ]
    }
   ],
   "source": [
    "test_example = next(iter(train_loader))[0] #0 means first item from the list\n",
    "print(test_example.shape) #confirmation of batch size"
   ]
  },
  {
   "cell_type": "code",
   "execution_count": 10,
   "id": "14f48c43",
   "metadata": {},
   "outputs": [],
   "source": [
    "#defining the neural network model\n",
    "\n",
    "import torch.nn as nn #neural network parameters for layers\n",
    "import torch.nn.functional as F #activation"
   ]
  },
  {
   "cell_type": "code",
   "execution_count": 11,
   "id": "16b424f9",
   "metadata": {},
   "outputs": [],
   "source": [
    "device = \"cpu\""
   ]
  },
  {
   "cell_type": "code",
   "execution_count": 12,
   "id": "7964531e",
   "metadata": {},
   "outputs": [],
   "source": [
    "class Net(nn.Module):\n",
    "    def __init__(self):\n",
    "        super(Net, self).__init__()\n",
    "        self.conv1 = nn.Conv2d(1, 32, 3, padding = 1, stride = 2) #stride = divide\n",
    "        self.conv2 = nn.Conv2d(32, 64, 3, padding = 1, stride = 2)\n",
    "        self.fc1 = nn.Linear(64 * 3 * 3, 10)\n",
    "    \n",
    "        \n",
    "    def forward(self, x):\n",
    "        x = F.relu(self.conv1(x))\n",
    "        x = F.relu(self.conv2(x))\n",
    "        x = F.max_pool2d(x, 2) #max pooling layer averages the pixels of the images\n",
    "        x = torch.flatten(x, 1)\n",
    "        x = self.fc1(x)\n",
    "        \n",
    "        return x"
   ]
  },
  {
   "cell_type": "code",
   "execution_count": 13,
   "id": "906e56e1",
   "metadata": {},
   "outputs": [],
   "source": [
    "model = Net().to(device)"
   ]
  },
  {
   "cell_type": "code",
   "execution_count": 14,
   "id": "f611a586",
   "metadata": {},
   "outputs": [],
   "source": [
    "test_out = model.forward(test_example.to(device))"
   ]
  },
  {
   "cell_type": "code",
   "execution_count": 15,
   "id": "4fdf0f80",
   "metadata": {},
   "outputs": [],
   "source": [
    "# define the loss function and optimizer\n",
    "\n",
    "# to read about different loss functions \n",
    "\n",
    "criterion = nn.CrossEntropyLoss()\n",
    "optimizer = torch.optim.SGD(model.parameters(), lr = 1.e-3)"
   ]
  },
  {
   "cell_type": "code",
   "execution_count": 16,
   "id": "846e120c",
   "metadata": {},
   "outputs": [
    {
     "name": "stdout",
     "output_type": "stream",
     "text": [
      "CPU times: total: 39min 53s\n",
      "Wall time: 12min 12s\n"
     ]
    }
   ],
   "source": [
    "%%time\n",
    "\n",
    "num_epochs = 10 #how many iteration over the dataset\n",
    "\n",
    "model = model.to(device)\n",
    "\n",
    "for epoch in range(num_epochs):\n",
    "    train_loss = 0.0\n",
    "    train_correct = 0\n",
    "    model.train()\n",
    "    \n",
    "    \n",
    "    for images, labels in train_loader:\n",
    "        images,labels = images.to(device), labels.to(device)\n",
    "        optimizer.zero_grad()\n",
    "        outputs = model(images)\n",
    "        loss = criterion(outputs, labels)\n",
    "        loss.backward()\n",
    "        optimizer.step()\n",
    "        \n",
    "        #train loss and accuracy\n",
    "        train_loss += loss.item() * images.size(0)\n",
    "        _, predicted = torch.max(outputs.data, 1)\n",
    "        train_correct += (predicted == labels).sum().item()\n",
    "        \n",
    "    train_loss = train_loss/len(train_loader.dataset)\n",
    "    train_accuracy = 100.0 * train_correct/len(train_loader.dataset)\n",
    "    \n",
    "    test_loss = 0.0\n",
    "    test_correct = 0\n",
    "    model.eval()\n",
    "    \n",
    "    with torch.no_grad():\n",
    "        for images, labels in test_loader:\n",
    "            images, labels = images.to(device), labels.to(device)\n",
    "            \n",
    "            outputs = model(images)\n",
    "            loss = criterion(outputs, labels)\n",
    "            test_loss += loss.item() * images.size(0)\n",
    "            _, predicted = torch.max(outputs.data, 1)\n",
    "            test_correct += (predicted == labels).sum().item()\n",
    "        \n",
    "    test_loss = test_loss/len(test_loader.dataset)\n",
    "    test_accuracy = 100.0 * test_correct/len(test_loader.dataset)    "
   ]
  },
  {
   "cell_type": "code",
   "execution_count": 17,
   "id": "5e031f89",
   "metadata": {},
   "outputs": [
    {
     "data": {
      "text/plain": [
       "91.3"
      ]
     },
     "execution_count": 17,
     "metadata": {},
     "output_type": "execute_result"
    }
   ],
   "source": [
    "test_accuracy"
   ]
  }
 ],
 "metadata": {
  "kernelspec": {
   "display_name": "Python 3 (ipykernel)",
   "language": "python",
   "name": "python3"
  },
  "language_info": {
   "codemirror_mode": {
    "name": "ipython",
    "version": 3
   },
   "file_extension": ".py",
   "mimetype": "text/x-python",
   "name": "python",
   "nbconvert_exporter": "python",
   "pygments_lexer": "ipython3",
   "version": "3.10.9"
  }
 },
 "nbformat": 4,
 "nbformat_minor": 5
}
